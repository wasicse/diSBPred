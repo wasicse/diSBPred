{
 "cells": [
  {
   "cell_type": "code",
   "execution_count": 59,
   "metadata": {},
   "outputs": [],
   "source": [
    "import pandas as pd\n",
    "# id=\"2Y8WA\"\n",
    "id=\"2XZOA\"\n",
    "source_dir=\"../Tools/BalancedSSP/Software/Output/prediction/\"+id+\"/MetaSSPred/\"+id+\".MetaSSpred\"\n",
    "df1=pd.read_csv(source_dir,delim_whitespace=True,skiprows=3 )\n",
    "df1 = df1.iloc[:,3:6] \n",
    "df1\n",
    "source_dir=\"../Tools/DisPredict_v2.0/Software/Output/prediction/\"+id+\"/\"+id+\".dispredict2.sl477.predict\"\n",
    "df2=pd.read_csv(source_dir,delim_whitespace=True,skiprows=0 )\n",
    "df2 = df2.iloc[:, 1] \n",
    "df2\n",
    "source_dir=\"../Tools/DisPredict_v2.0/Software/Features/\"+id+\"/\"+id+\".57pfeatures\"\n",
    "df3=pd.read_csv(source_dir,delim_whitespace=True,header=None,skiprows=1)\n",
    "df3 = df3.iloc[:, 1:] \n",
    "df=pd.concat([df2 , df3,df1],axis=1)\n",
    "# df.columns = [\"disProb(1)\", \"AA(1)\", \"PP(7)\", \"PSSM(20)\", 'SS(3)', 'ASA(1)', 'dphi(1)', 'dpsi(1)', 'MG(1)', 'BG(20)', 'sPSEE(1)', 't(1)','pBeta','pCoil','pHelix']\n",
    "\n",
    "df.to_csv(\"./CombFeatures/\"+id+\".61features\",index=False,header=None)\n",
    "import csv\n",
    "with open(\"./CombFeatures/\"+id+\".61features\",newline='') as f:\n",
    "    r = csv.reader(f)\n",
    "    data = [line for line in r]\n",
    "with open(\"./CombFeatures/\"+id+\".61features\",'w',newline='') as f:\n",
    "    w = csv.writer(f)\n",
    "    w.writerow([\"disProb(1)\", \"AA(1)\", \"PP(7)\", \"PSSM(20)\", 'SS(3)', 'ASA(1)', 'dphi(1)', 'dpsi(1)', 'MG(1)', 'BG(20)', 'sPSEE(1)', 't(1)','pBeta','pCoil','pHelix'])\n",
    "    w.writerows(data)"
   ]
  },
  {
   "cell_type": "code",
   "execution_count": null,
   "metadata": {},
   "outputs": [],
   "source": []
  }
 ],
 "metadata": {
  "kernelspec": {
   "display_name": ".venv",
   "language": "python",
   "name": "python3"
  },
  "language_info": {
   "codemirror_mode": {
    "name": "ipython",
    "version": 3
   },
   "file_extension": ".py",
   "mimetype": "text/x-python",
   "name": "python",
   "nbconvert_exporter": "python",
   "pygments_lexer": "ipython3",
   "version": "3.9.5"
  },
  "orig_nbformat": 4
 },
 "nbformat": 4,
 "nbformat_minor": 2
}
